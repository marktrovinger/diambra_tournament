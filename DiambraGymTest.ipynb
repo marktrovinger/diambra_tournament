{
 "cells": [
  {
   "cell_type": "code",
   "execution_count": 2,
   "metadata": {},
   "outputs": [],
   "source": [
    "import cv2, time, os\n",
    "import numpy as np\n",
    "from diambra_environment.diambraGym import diambraGym"
   ]
  },
  {
   "cell_type": "code",
   "execution_count": 3,
   "metadata": {},
   "outputs": [],
   "source": [
    "repo_base_path = os.path.join(os.path.abspath(\"/\"), \"home/gansandgains/DIAMBRAenvironment\") # Absolute path to your DIAMBRA environment\n",
    "\n",
    "diambraEnvKwargs = {}\n",
    "diambraEnvKwargs[\"gameId\"]          = \"doapp\"\n",
    "diambraEnvKwargs[\"roms_path\"]       = os.path.join(repo_base_path, \"roms/\") # Absolute path to roms\n",
    "\n",
    "diambraEnvKwargs[\"mame_diambra_step_ratio\"] = 6\n",
    "diambraEnvKwargs[\"render\"]      = True\n",
    "diambraEnvKwargs[\"lock_fps\"]    = True # Locks to 60 FPS\n",
    "diambraEnvKwargs[\"sound\"]       = diambraEnvKwargs[\"lock_fps\"] and diambraEnvKwargs[\"render\"]\n",
    "\n",
    "# 1P\n",
    "diambraEnvKwargs[\"player\"] = \"Random\"\n",
    "# 2P\n",
    "#diambraEnvKwargs[\"player\"] = \"P1P2\"\n",
    "\n",
    "# Game specific\n",
    "diambraEnvKwargs[\"difficulty\"] = 3\n",
    "diambraEnvKwargs[\"characters\"]  = [[\"Random\", \"Random\"], [\"Random\", \"Random\"]]\n",
    "diambraEnvKwargs[\"charOutfits\"] = [2, 2]"
   ]
  },
  {
   "cell_type": "code",
   "execution_count": 4,
   "metadata": {},
   "outputs": [],
   "source": [
    "# DIAMBRA gym kwargs\n",
    "diambraGymKwargs = {}\n",
    "diambraGymKwargs[\"P2brain\"]               = None#gamePad_policy\n",
    "diambraGymKwargs[\"continue_game\"]         = 0.0\n",
    "diambraGymKwargs[\"show_final\"]            = False\n",
    "diambraGymKwargs[\"gamePads\"]              = [None, diambraGymKwargs[\"P2brain\"]]\n",
    "diambraGymKwargs[\"actionSpace\"]           = [\"discrete\", \"multiDiscrete\"]\n",
    "diambraGymKwargs[\"attackButCombinations\"] = [True, False]\n",
    "diambraGymKwargs[\"actBufLen\"]             = 12"
   ]
  },
  {
   "cell_type": "code",
   "execution_count": 5,
   "metadata": {},
   "outputs": [
    {
     "name": "stdout",
     "output_type": "stream",
     "text": [
      "Env_id = Test\n",
      "Continue value = 0.0\n",
      "Action Spaces = ['discrete', 'multiDiscrete']\n",
      "Use attack buttons combinations = [True, False]\n",
      "diambraEnv library successfully loaded\n",
      "Pipe: /tmp/DIAMBRA/writeToDiambra-Test.pipe\n",
      "Pipe: /tmp/DIAMBRA/readFromDiambra-Test.pipe\n",
      "Using Discrete action space\n"
     ]
    }
   ],
   "source": [
    "envId = \"Test\" # This ID must be unique for every instance of the environment when using diambraGym class\n",
    "env = diambraGym(envId, diambraEnvKwargs, **diambraGymKwargs)"
   ]
  },
  {
   "cell_type": "code",
   "execution_count": 6,
   "metadata": {},
   "outputs": [
    {
     "name": "stdout",
     "output_type": "stream",
     "text": [
      "Action space P1 =  Discrete(16)\n",
      "Action space type P1 =  int64\n",
      "Action space n =  16\n"
     ]
    }
   ],
   "source": [
    "# Printing action spaces\n",
    "for idx in range(2):\n",
    "    \n",
    "    if diambraEnvKwargs[\"player\"] != \"P1P2\" and idx == 1:\n",
    "        continue\n",
    "        \n",
    "    print(\"Action space P{} = \".format(idx+1), env.action_spaces[idx])\n",
    "    print(\"Action space type P{} = \".format(idx+1), env.action_spaces[idx].dtype)\n",
    "    if diambraGymKwargs[\"actionSpace\"][idx] == \"multiDiscrete\":\n",
    "        print(\"Action space n = \", env.action_spaces[idx].nvec)\n",
    "    else:\n",
    "        print(\"Action space n = \", env.action_spaces[idx].n)"
   ]
  },
  {
   "cell_type": "code",
   "execution_count": 7,
   "metadata": {},
   "outputs": [],
   "source": [
    "def showFrame(observation, waitKey = 1):\n",
    "    obs = np.array(observation).astype(np.float32)/255\n",
    "\n",
    "    cv2.imshow(\"image\", obs[:, :, ::-1]) #bgr 2 rgb\n",
    "    cv2.waitKey(waitKey)"
   ]
  },
  {
   "cell_type": "code",
   "execution_count": 8,
   "metadata": {},
   "outputs": [],
   "source": [
    "actionsPrintDict = env.print_actions_dict\n",
    "charNames = env.charNames\n",
    "\n",
    "observation = env.reset()"
   ]
  },
  {
   "cell_type": "code",
   "execution_count": null,
   "metadata": {},
   "outputs": [],
   "source": [
    "#showFrame(observation, 0) # Press space bar with image window active to complete cell execution"
   ]
  },
  {
   "cell_type": "code",
   "execution_count": null,
   "metadata": {},
   "outputs": [
    {
     "name": "stdout",
     "output_type": "stream",
     "text": [
      "(P1)   Punch + Kick\n",
      "Actions =  14\n",
      "Reward        = 0\n",
      "Fighting      =  1\n",
      "OwnCharacter  =  Tina\n",
      "OwnHealth     =  [208, 0]\n",
      "OppHealth     =  [208, 0]\n",
      "OwnPosition   =  0\n",
      "OppPosition   =  1\n",
      "OwnWin        =  0\n",
      "OppWin        =  0\n",
      "Stage         =  1\n",
      "OwnActionsBuf =  [deque([0, 0, 0, 0, 0, 0, 0, 0, 0, 0, 0, 0], maxlen=12), deque([0, 0, 0, 0, 0, 0, 0, 0, 0, 0, 0, 6], maxlen=12)]\n",
      "Round done    =  False\n",
      "Stage done    =  False\n",
      "Game done     =  False\n",
      "Episode done  =  False\n",
      "Done          =  False\n"
     ]
    }
   ],
   "source": [
    "tic = time.time()\n",
    "fpsVal = []\n",
    "\n",
    "while True:\n",
    "\n",
    "    toc = time.time()\n",
    "    fps = 1/(toc - tic)\n",
    "    tic = toc\n",
    "    #print(\"FPS = {}\".format(fps))\n",
    "    fpsVal.append(fps)    \n",
    "    \n",
    "    actions = [None, None]\n",
    "    for idx in range(2):\n",
    "        \n",
    "        actions[idx] = env.action_spaces[idx].sample()\n",
    "        \n",
    "        if diambraGymKwargs[\"actionSpace\"][idx] == \"discrete\":\n",
    "            move_action, att_action = env.discreteToMultiDiscreteAction(actions[idx])\n",
    "        else:\n",
    "            move_action, att_action = actions[idx][0], actions[idx][1]\n",
    "\n",
    "        if diambraEnvKwargs[\"player\"] != \"P1P2\" and idx == 1:\n",
    "            continue\n",
    "            \n",
    "        print(\"(P{}) {} {}\".format(idx+1, actionsPrintDict[0][move_action],       \n",
    "                                          actionsPrintDict[1][att_action])) \n",
    "        \n",
    "    if diambraEnvKwargs[\"player\"] != \"P1P2\" and diambraGymKwargs[\"actionSpace\"][0] == \"discrete\":\n",
    "        actions = actions[0]\n",
    "    else:\n",
    "        actions = np.append(actions[0], actions[1])    \n",
    "\n",
    "    observation, reward, done, info = env.step(actions)\n",
    "    \n",
    "    print(\"Actions = \", actions)\n",
    "    print(\"Reward        =\", reward)\n",
    "    print(\"Fighting      = \", info[\"fighting\"])\n",
    "    print(\"OwnCharacter  = \", charNames[info[\"ownCharacter\"]])\n",
    "    if diambraEnvKwargs[\"player\"] == \"P1P2\":\n",
    "        print(\"OppCharacter  = \", charNames[info[\"oppCharacter\"]])\n",
    "    print(\"OwnHealth     = \", info[\"ownHealth\"])\n",
    "    print(\"OppHealth     = \", info[\"oppHealth\"])\n",
    "    print(\"OwnPosition   = \", info[\"ownPosition\"])\n",
    "    print(\"OppPosition   = \", info[\"oppPosition\"])\n",
    "    print(\"OwnWin        = \", info[\"ownWins\"])\n",
    "    print(\"OppWin        = \", info[\"oppWins\"])\n",
    "    print(\"Stage         = \", info[\"stage\"])\n",
    "    print(\"OwnActionsBuf = \", info[\"actionsBufP1\"])\n",
    "    if diambraEnvKwargs[\"player\"] == \"P1P2\":\n",
    "        print(\"OppActionsBuf = \", info[\"actionsBufP2\"])\n",
    "    print(\"Round done    = \", info[\"round_done\"])\n",
    "    print(\"Stage done    = \", info[\"stage_done\"])\n",
    "    print(\"Game done     = \", info[\"game_done\"])\n",
    "    print(\"Episode done  = \", info[\"ep_done\"])\n",
    "    print(\"Done          = \", done)\n",
    "    showFrame(observation,0)\n",
    "    \n",
    "    #if info[\"stage_done\"] or done:\n",
    "    #    break\n",
    "    \n",
    "    if done:\n",
    "        print(\"Resetting Env\")\n",
    "        observation = env.reset()\n",
    "        \n",
    "env.close()"
   ]
  },
  {
   "cell_type": "code",
   "execution_count": null,
   "metadata": {},
   "outputs": [],
   "source": [
    "print(\"Number of steps = \", len(fpsVal))\n",
    "print(\"Average FPS = \", np.mean(fpsVal))\n",
    "print(\"Std FPS = \", np.std(fpsVal))"
   ]
  },
  {
   "cell_type": "code",
   "execution_count": null,
   "metadata": {},
   "outputs": [],
   "source": []
  }
 ],
 "metadata": {
  "kernelspec": {
   "display_name": "Python 3.9.4 64-bit ('diambra': conda)",
   "language": "python",
   "name": "python394jvsc74a57bd0cb9cabe65913c61997b43f6d558e6e897d18a72adae213ccf33bc93d21711280"
  },
  "language_info": {
   "codemirror_mode": {
    "name": "ipython",
    "version": 3
   },
   "file_extension": ".py",
   "mimetype": "text/x-python",
   "name": "python",
   "nbconvert_exporter": "python",
   "pygments_lexer": "ipython3",
   "version": "3.9.4"
  },
  "metadata": {
   "interpreter": {
    "hash": "cb9cabe65913c61997b43f6d558e6e897d18a72adae213ccf33bc93d21711280"
   }
  }
 },
 "nbformat": 4,
 "nbformat_minor": 4
}
