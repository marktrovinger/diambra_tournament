{
 "cells": [
  {
   "cell_type": "code",
   "execution_count": 1,
   "id": "25f15268",
   "metadata": {},
   "outputs": [],
   "source": [
    "import cv2\n",
    "import numpy as np\n",
    "from diambra_environment.diambraGym import diambraGym\n",
    "import os"
   ]
  },
  {
   "cell_type": "code",
   "execution_count": 6,
   "id": "fcbdb1f9",
   "metadata": {},
   "outputs": [
    {
     "output_type": "stream",
     "name": "stdout",
     "text": [
      "Env_id = TestEnv\nContinue value = 0.0\nAction Spaces = ['discrete', 'multiDiscrete']\nUse attack buttons combinations = [True, False]\ndiambraEnv library successfully loaded\nPipe: /tmp/DIAMBRA/writeToDiambra-TestEnv.pipe\nPipe: /tmp/DIAMBRA/readFromDiambra-TestEnv.pipe\n"
     ]
    },
    {
     "output_type": "error",
     "ename": "KeyboardInterrupt",
     "evalue": "",
     "traceback": [
      "\u001b[0;31m---------------------------------------------------------------------------\u001b[0m",
      "\u001b[0;31mKeyboardInterrupt\u001b[0m                         Traceback (most recent call last)",
      "\u001b[0;32m<ipython-input-6-81d58583e7fc>\u001b[0m in \u001b[0;36m<module>\u001b[0;34m\u001b[0m\n\u001b[1;32m     28\u001b[0m \u001b[0;34m\u001b[0m\u001b[0m\n\u001b[1;32m     29\u001b[0m \u001b[0menvId\u001b[0m \u001b[0;34m=\u001b[0m \u001b[0;34m\"TestEnv\"\u001b[0m\u001b[0;34m\u001b[0m\u001b[0;34m\u001b[0m\u001b[0m\n\u001b[0;32m---> 30\u001b[0;31m \u001b[0menv\u001b[0m \u001b[0;34m=\u001b[0m \u001b[0mdiambraGym\u001b[0m\u001b[0;34m(\u001b[0m\u001b[0menvId\u001b[0m\u001b[0;34m,\u001b[0m \u001b[0mdiambraEnvKwargs\u001b[0m\u001b[0;34m,\u001b[0m \u001b[0;34m**\u001b[0m\u001b[0mdiambraGymKwargs\u001b[0m\u001b[0;34m)\u001b[0m\u001b[0;34m\u001b[0m\u001b[0;34m\u001b[0m\u001b[0m\n\u001b[0m",
      "\u001b[0;32m~/anaconda3/envs/diambra/lib/python3.9/site-packages/diambra_environment/diambraGym.py\u001b[0m in \u001b[0;36m__init__\u001b[0;34m(self, env_id, diambraEnvKwargs, P2brain, rewNormFac, continue_game, show_final, gamePads, actionSpace, attackButCombinations, actBufLen, headless)\u001b[0m\n\u001b[1;32m    139\u001b[0m         \u001b[0;31m# Wait until the fifo file has been created and opened on Diambra Env side\u001b[0m\u001b[0;34m\u001b[0m\u001b[0;34m\u001b[0m\u001b[0;34m\u001b[0m\u001b[0m\n\u001b[1;32m    140\u001b[0m         \u001b[0;32mwhile\u001b[0m \u001b[0;34m(\u001b[0m\u001b[0;32mnot\u001b[0m \u001b[0mtmpPath\u001b[0m\u001b[0;34m.\u001b[0m\u001b[0mexists\u001b[0m\u001b[0;34m(\u001b[0m\u001b[0;34m)\u001b[0m\u001b[0;34m)\u001b[0m\u001b[0;34m:\u001b[0m\u001b[0;34m\u001b[0m\u001b[0;34m\u001b[0m\u001b[0m\n\u001b[0;32m--> 141\u001b[0;31m             \u001b[0mtime\u001b[0m\u001b[0;34m.\u001b[0m\u001b[0msleep\u001b[0m\u001b[0;34m(\u001b[0m\u001b[0;36m1\u001b[0m\u001b[0;34m)\u001b[0m\u001b[0;34m\u001b[0m\u001b[0;34m\u001b[0m\u001b[0m\n\u001b[0m\u001b[1;32m    142\u001b[0m \u001b[0;34m\u001b[0m\u001b[0m\n\u001b[1;32m    143\u001b[0m         \u001b[0mtime\u001b[0m\u001b[0;34m.\u001b[0m\u001b[0msleep\u001b[0m\u001b[0;34m(\u001b[0m\u001b[0;36m2\u001b[0m\u001b[0;34m)\u001b[0m\u001b[0;34m\u001b[0m\u001b[0;34m\u001b[0m\u001b[0m\n",
      "\u001b[0;31mKeyboardInterrupt\u001b[0m: "
     ]
    }
   ],
   "source": [
    "base_path = os.path.join(os.path.dirname(os.path.abspath('__file__')), \"/home/gansandgains/DIAMBRAenvironment/\")\n",
    "\n",
    "diambraEnvKwargs = {}\n",
    "diambraEnvKwargs[\"gameId\"]          = \"doapp\"\n",
    "diambraEnvKwargs[\"roms_path\"]       = os.path.join(base_path, \"roms/\")\n",
    "diambraEnvKwargs[\"mame_path\"]       = os.path.join(base_path, \"diambra_environment/mame/\")\n",
    "diambraEnvKwargs[\"mame_diambra_step_ratio\"] = 6\n",
    "diambraEnvKwargs[\"render\"] = True\n",
    "diambraEnvKwargs[\"lock_fps\"] = True\n",
    "diambraEnvKwargs[\"sound\"] = diambraEnvKwargs[\"lock_fps\"] and diambraEnvKwargs[\"render\"]\n",
    "\n",
    "# 1P\n",
    "diambraEnvKwargs[\"player\"] = \"P1\"\n",
    "\n",
    "# Game specific\n",
    "diambraEnvKwargs[\"difficulty\"] = 3\n",
    "diambraEnvKwargs[\"characters\"] = [[\"Random\", \"Random\"], [\"Random\", \"Random\"]]\n",
    "diambraEnvKwargs[\"charOutfits\"] = [2,2]\n",
    "\n",
    "# gym kwargs\n",
    "diambraGymKwargs = {}\n",
    "diambraGymKwargs[\"P2brain\"] = None\n",
    "diambraGymKwargs[\"continue_game\"] = 0.0\n",
    "diambraGymKwargs[\"show_final\"] = False\n",
    "diambraGymKwargs[\"gamePads\"] = [None, None]\n",
    "diambraGymKwargs[\"actionSpace\"] = [\"discrete\", \"multiDiscrete\"]\n",
    "diambraGymKwargs[\"attackButCombinations\"] = [True, False] \n",
    "\n",
    "envId = \"TestEnv\"\n",
    "env = diambraGym(envId, diambraEnvKwargs, **diambraGymKwargs)"
   ]
  },
  {
   "cell_type": "code",
   "execution_count": null,
   "metadata": {},
   "outputs": [],
   "source": [
    "observation = env.reset()\n",
    "\n",
    "for _ in range(100):\n",
    "    actions = env.action_spaces[0].sample()\n",
    "\n",
    "    observation, reward, done, info = env.step(actions)\n",
    "    if done:\n",
    "        observation = env.reset()\n",
    "        "
   ]
  },
  {
   "cell_type": "code",
   "execution_count": null,
   "metadata": {},
   "outputs": [],
   "source": []
  }
 ],
 "metadata": {
  "kernelspec": {
   "name": "python394jvsc74a57bd0cb9cabe65913c61997b43f6d558e6e897d18a72adae213ccf33bc93d21711280",
   "display_name": "Python 3.9.4 64-bit ('diambra': conda)"
  },
  "language_info": {
   "codemirror_mode": {
    "name": "ipython",
    "version": 3
   },
   "file_extension": ".py",
   "mimetype": "text/x-python",
   "name": "python",
   "nbconvert_exporter": "python",
   "pygments_lexer": "ipython3",
   "version": "3.9.4"
  },
  "metadata": {
   "interpreter": {
    "hash": "cb9cabe65913c61997b43f6d558e6e897d18a72adae213ccf33bc93d21711280"
   }
  }
 },
 "nbformat": 4,
 "nbformat_minor": 5
}